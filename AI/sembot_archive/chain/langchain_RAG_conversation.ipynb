{
 "cells": [
  {
   "cell_type": "code",
   "execution_count": 1,
   "metadata": {},
   "outputs": [
    {
     "name": "stdout",
     "output_type": "stream",
     "text": [
      "LangSmith 추적을 시작합니다.\n",
      "[프로젝트명]\n",
      "langchain_RAG\n"
     ]
    }
   ],
   "source": [
    "from chain_logging import langsmith\n",
    "from dotenv import load_dotenv\n",
    "\n",
    "load_dotenv()\n",
    "\n",
    "langsmith(\"langchain_RAG\")\n"
   ]
  },
  {
   "cell_type": "code",
   "execution_count": 2,
   "metadata": {},
   "outputs": [],
   "source": [
    "import os\n",
    "from utils import get_embeddings\n",
    "from vectorstore_manager import (\n",
    "    load_vectorstore_from_FAISS,\n",
    "    create_vectorstore_from_FAISS,\n",
    "    create_vectorstore_from_Mongo,\n",
    "    load_vectorestore_from_Mongo,\n",
    "    get_connection,\n",
    ")\n",
    "\n",
    "def load_vectorestore_FAISS(vectorestore_path, pdf_path):\n",
    "    embeddings = get_embeddings()\n",
    "\n",
    "    # Load or create vectorstore\n",
    "    if os.path.exists(vectorestore_path):\n",
    "        print(\"Loading existing vectorstore...\")\n",
    "        loaded_vectorstore = load_vectorstore_from_FAISS(vectorestore_path, embeddings)\n",
    "    else:\n",
    "        print(\"Vectorstore not found. Creating a new one...\")\n",
    "        loaded_vectorstore = create_vectorstore_from_FAISS(\n",
    "            pdf_path, vectorestore_path, embeddings\n",
    "        )\n",
    "\n",
    "    return loaded_vectorstore\n",
    "\n",
    "\n",
    "def load_vectorestore_Mongo(pdf_path):\n",
    "\n",
    "    collection = get_connection()\n",
    "    embeddings = get_embeddings()\n",
    "\n",
    "    # Load or create vectorstore\n",
    "    if collection.collection_has_data():\n",
    "        print(\"Loading existing vectorstore...\")\n",
    "        loaded_vectorstore = load_vectorestore_from_Mongo(embeddings)\n",
    "    else:\n",
    "        print(\"Vectorstore not found. Creating a new one...\")\n",
    "        loaded_vectorstore = create_vectorstore_from_Mongo(pdf_path, embeddings)        \n",
    "\n",
    "    return loaded_vectorstore"
   ]
  },
  {
   "cell_type": "markdown",
   "metadata": {},
   "source": [
    "### 대화 내용을 기억하는 기능을 추가"
   ]
  },
  {
   "cell_type": "code",
   "execution_count": 3,
   "metadata": {},
   "outputs": [
    {
     "name": "stderr",
     "output_type": "stream",
     "text": [
      "c:\\Users\\SSAFY\\ssafy\\자율프로젝트\\S11P31S102\\AI\\chain\\vectorstore_manager.py:103: LangChainDeprecationWarning: Please see the migration guide at: https://python.langchain.com/docs/versions/migrating_memory/\n",
      "  memory = ConversationBufferWindowMemory(\n"
     ]
    },
    {
     "name": "stdout",
     "output_type": "stream",
     "text": [
      "Loading existing vectorstore...\n"
     ]
    }
   ],
   "source": [
    "import os\n",
    "\n",
    "from config import LOCAL_MODEL_PATH, MODEL_NAME, MODEL_PATH, PDF_PATH, VECTORSTORE_PATH\n",
    "from langchain_core.output_parsers import StrOutputParser\n",
    "from langchain_core.runnables import RunnablePassthrough\n",
    "from langchain_ollama import ChatOllama\n",
    "from langchain_openai import ChatOpenAI\n",
    "from load_model import create_model, load_model\n",
    "from utils import create_prompt, format_docs_with_print\n",
    "from vectorstore_manager import create_conversaion_memory\n",
    "\n",
    "# 대화를 기억할 메모리 객체 생성\n",
    "memory = create_conversaion_memory(\"chat_history\", \"answer\")\n",
    "\n",
    "\n",
    "# 단계 5: 리트리버 생성\n",
    "k = 3\n",
    "\n",
    "loaded_vectorstore = load_vectorestore_FAISS(VECTORSTORE_PATH, PDF_PATH)\n",
    "retriever = loaded_vectorstore.as_retriever(search_kwargs={\"k\": k})\n",
    "\n",
    "\n",
    "# 단계 6: 프롬프트 생성\n",
    "prompt = create_prompt()\n",
    "\n",
    "# 단계7: 언어모델 생성\n",
    "# Ollama 모델을 불러옵니다.\n",
    "# llm = ChatOllama(model=MODEL_PATH, temperature=0)\n",
    "\n",
    "# 객체 생성\n",
    "llm = ChatOpenAI(\n",
    "    temperature=0.1,  # 창의성 (0.0 ~ 2.0)\n",
    "    model_name=MODEL_PATH,  # 모델명\n",
    ")\n",
    "\n",
    "# if os.path.exists(LOCAL_MODEL_PATH):\n",
    "#     print(\"Loading existing Local Model...\")\n",
    "#     llm = load_model(LOCAL_MODEL_PATH)\n",
    "# else:\n",
    "#     print(\"Local Model not found. Creating a new one...\")\n",
    "#     create_model(MODEL_NAME,LOCAL_MODEL_PATH)\n",
    "#     llm = load_model(LOCAL_MODEL_PATH)\n",
    "\n",
    "\n"
   ]
  },
  {
   "cell_type": "code",
   "execution_count": 12,
   "metadata": {},
   "outputs": [],
   "source": [
    "# 단계 8: 체인 생성\n",
    "# 단계 8: 체인 생성\n",
    "rag_chain = (\n",
    "    {\n",
    "        \"context\": retriever | format_docs_with_print,\n",
    "        \"question\": RunnablePassthrough(),\n",
    "        \"chat_history\": lambda x: memory.load_memory_variables({})[\"chat_history\"],\n",
    "    }\n",
    "    | prompt    \n",
    ")"
   ]
  },
  {
   "cell_type": "code",
   "execution_count": 13,
   "metadata": {},
   "outputs": [
    {
     "name": "stdout",
     "output_type": "stream",
     "text": [
      "\n",
      "=== Retrieved Documents ===\n",
      "\n",
      "Document 1:\n",
      "../kisa_pdf/2_06_급여규정(240221).pdf |  page: 12\n",
      "<별표 제4호> <개정 2014.9.5., 2016. 12. 22.> <삭제 2023. 7. 5.>\n",
      "<별표 제5호>\n",
      "명예퇴직금\n",
      "정년잔여기간 산 정 기 준\n",
      "1년 이상\n",
      "퇴직당시 연봉월액 × 정년잔여월수 × 50%\n",
      "5년 이내인 자\n",
      "5년 초과 정년잔여월수-60\n",
      "퇴직당시 연봉월액 × (60+ ) × 50%\n",
      "10년 이내인 자 2\n",
      "10년 초과인 자 정년 잔여기간이 10년인 자의 금액과 동일한 금액\n",
      "<별표 제6호> <신설 2010. 12. 29.><개정 2014. 2. 26, 2014. 7. 4., 2018. 7. 6., 2022. 12. 22.>\n",
      "직무급\n",
      "직무급 가 등급 나 등급 다 등급\n",
      "연지급액 13,800,000원 10,200,000원 7,200,000원\n",
      "직무설명 본부급을 총괄하는 직무 단급을 총괄하는 직무 팀급을 총괄하는 직무\n",
      "- 13 -\n",
      "--------------------------------------------------\n",
      "\n",
      "Document 2:\n",
      "../kisa_pdf/3_09_급여지급규칙(240214).pdf |  page: 9\n",
      "[별지 제4호]<개정 2009. 12. 24>\n",
      "퇴직금 중간정산 신청서\n",
      "담 당 담 당\n",
      "결 접\n",
      "재 수\n",
      "신청일자 신청번호\n",
      "부서(팀) 성명(사번)\n",
      "직 급 입사일자\n",
      "주 소\n",
      "정산기간 년 ~ 년\n",
      "위 상기명 본인은 급여규정 제17조 및\n",
      "급여지급규칙 제13조에 따라 퇴직금 중간정산을 신청합니다.\n",
      "--------------------------------------------------\n",
      "\n",
      "Document 3:\n",
      "../kisa_pdf/2_06_급여규정(240221).pdf |  page: 4\n",
      "을 증명하는 서류를 제출하여야 한다.\n",
      "제22조(퇴직금의 특례) <삭제 2014.9.5.>\n",
      "제23조(퇴직금의 지급시기) 퇴직금은 퇴직금 지급 사유가 발생한 날부터 상당한 사유가 없는 한 14일\n",
      "이내에 통화로 지급함을 원칙으로 한다. 다만, 사실 조회에 소요되는 기간은 동 기간에 포함되지\n",
      "아니한다.\n",
      "제24조(권리의 소멸) 퇴직금을 지급 받을 권리는 그 권리의 발생일로부터 3년간 행사하지 아니한 때\n",
      "에는 시효로 인하여 소멸한다.\n",
      "- 5 -\n",
      "--------------------------------------------------\n",
      "\n",
      "\n",
      "Anser: \n",
      "\n"
     ]
    },
    {
     "data": {
      "text/plain": [
       "ChatPromptValue(messages=[SystemMessage(content=\"You are an assistant for question-answering tasks. Use the following pieces of retrieved context to answer the question.\\n        If you don't know the answer, just say that you don't know.\\n        Use three sentences maximum and keep the answer concise. Answer in Korean.\", additional_kwargs={}, response_metadata={}), HumanMessage(content='Context: <별표 제4호> <개정 2014.9.5., 2016. 12. 22.> <삭제 2023. 7. 5.>\\n<별표 제5호>\\n명예퇴직금\\n정년잔여기간 산 정 기 준\\n1년 이상\\n퇴직당시 연봉월액 × 정년잔여월수 × 50%\\n5년 이내인 자\\n5년 초과 정년잔여월수-60\\n퇴직당시 연봉월액 × (60+ ) × 50%\\n10년 이내인 자 2\\n10년 초과인 자 정년 잔여기간이 10년인 자의 금액과 동일한 금액\\n<별표 제6호> <신설 2010. 12. 29.><개정 2014. 2. 26, 2014. 7. 4., 2018. 7. 6., 2022. 12. 22.>\\n직무급\\n직무급 가 등급 나 등급 다 등급\\n연지급액 13,800,000원 10,200,000원 7,200,000원\\n직무설명 본부급을 총괄하는 직무 단급을 총괄하는 직무 팀급을 총괄하는 직무\\n- 13 -\\n\\n[별지 제4호]<개정 2009. 12. 24>\\n퇴직금 중간정산 신청서\\n담 당 담 당\\n결 접\\n재 수\\n신청일자 신청번호\\n부서(팀) 성명(사번)\\n직 급 입사일자\\n주 소\\n정산기간 년 ~ 년\\n위 상기명 본인은 급여규정 제17조 및\\n급여지급규칙 제13조에 따라 퇴직금 중간정산을 신청합니다.\\n\\n을 증명하는 서류를 제출하여야 한다.\\n제22조(퇴직금의 특례) <삭제 2014.9.5.>\\n제23조(퇴직금의 지급시기) 퇴직금은 퇴직금 지급 사유가 발생한 날부터 상당한 사유가 없는 한 14일\\n이내에 통화로 지급함을 원칙으로 한다. 다만, 사실 조회에 소요되는 기간은 동 기간에 포함되지\\n아니한다.\\n제24조(권리의 소멸) 퇴직금을 지급 받을 권리는 그 권리의 발생일로부터 3년간 행사하지 아니한 때\\n에는 시효로 인하여 소멸한다.\\n- 5 -\\n\\nQuestion: 언제 퇴직금이 지급되나요?', additional_kwargs={}, response_metadata={})])"
      ]
     },
     "execution_count": 13,
     "metadata": {},
     "output_type": "execute_result"
    }
   ],
   "source": [
    "question = \"언제 퇴직금이 지급되나요?\"\n",
    "\n",
    "response = rag_chain.invoke(question)\n",
    "\n",
    "response"
   ]
  },
  {
   "cell_type": "code",
   "execution_count": 4,
   "metadata": {},
   "outputs": [
    {
     "name": "stdout",
     "output_type": "stream",
     "text": [
      "[HUMAN]\n",
      "언제 퇴직금이 지급되나요?\n",
      "\n",
      "============================================================\n",
      "\n",
      "=== Retrieved Documents ===\n",
      "\n",
      "Document 1:\n",
      "../kisa_pdf/2_06_급여규정(240221).pdf |  page: 12\n",
      "<별표 제4호> <개정 2014.9.5., 2016. 12. 22.> <삭제 2023. 7. 5.>\n",
      "<별표 제5호>\n",
      "명예퇴직금\n",
      "정년잔여기간 산 정 기 준\n",
      "1년 이상\n",
      "퇴직당시 연봉월액 × 정년잔여월수 × 50%\n",
      "5년 이내인 자\n",
      "5년 초과 정년잔여월수-60\n",
      "퇴직당시 연봉월액 × (60+ ) × 50%\n",
      "10년 이내인 자 2\n",
      "10년 초과인 자 정년 잔여기간이 10년인 자의 금액과 동일한 금액\n",
      "<별표 제6호> <신설 2010. 12. 29.><개정 2014. 2. 26, 2014. 7. 4., 2018. 7. 6., 2022. 12. 22.>\n",
      "직무급\n",
      "직무급 가 등급 나 등급 다 등급\n",
      "연지급액 13,800,000원 10,200,000원 7,200,000원\n",
      "직무설명 본부급을 총괄하는 직무 단급을 총괄하는 직무 팀급을 총괄하는 직무\n",
      "- 13 -\n",
      "--------------------------------------------------\n",
      "\n",
      "Document 2:\n",
      "../kisa_pdf/3_09_급여지급규칙(240214).pdf |  page: 9\n",
      "[별지 제4호]<개정 2009. 12. 24>\n",
      "퇴직금 중간정산 신청서\n",
      "담 당 담 당\n",
      "결 접\n",
      "재 수\n",
      "신청일자 신청번호\n",
      "부서(팀) 성명(사번)\n",
      "직 급 입사일자\n",
      "주 소\n",
      "정산기간 년 ~ 년\n",
      "위 상기명 본인은 급여규정 제17조 및\n",
      "급여지급규칙 제13조에 따라 퇴직금 중간정산을 신청합니다.\n",
      "--------------------------------------------------\n",
      "\n",
      "Document 3:\n",
      "../kisa_pdf/2_06_급여규정(240221).pdf |  page: 4\n",
      "을 증명하는 서류를 제출하여야 한다.\n",
      "제22조(퇴직금의 특례) <삭제 2014.9.5.>\n",
      "제23조(퇴직금의 지급시기) 퇴직금은 퇴직금 지급 사유가 발생한 날부터 상당한 사유가 없는 한 14일\n",
      "이내에 통화로 지급함을 원칙으로 한다. 다만, 사실 조회에 소요되는 기간은 동 기간에 포함되지\n",
      "아니한다.\n",
      "제24조(권리의 소멸) 퇴직금을 지급 받을 권리는 그 권리의 발생일로부터 3년간 행사하지 아니한 때\n",
      "에는 시효로 인하여 소멸한다.\n",
      "- 5 -\n",
      "--------------------------------------------------\n",
      "\n",
      "\n",
      "Anser: \n",
      "\n",
      "퇴직금은 퇴직금 지급 사유가 발생한 날부터 상당한 사유가 없는 한 14일 이내에 지급됩니다. 단, 사실 조회에 소요되는 기간은 이 기간에 포함되지 않습니다."
     ]
    }
   ],
   "source": [
    "from chain_output_stream import stream_response\n",
    "\n",
    "# 단계 8: 체인 실행(Run Chain)\n",
    "# 문서에 대한 질의를 입력하고, 답변을 출력합니다.\n",
    "# question = \"연차는 어떻게 사용할 수 있나요?\"\n",
    "# question = \"유류비 청구는 어떻게 할 수 있나요? 제가 3박 4일로 부산에 갔다오는데 비용은 대충 어떻게 계산하죠?\"\n",
    "# question = \"아까 물어본 질문을 다시 알려주세요\"\n",
    "# question = \"급여 지급일은 언제인가요?\"\n",
    "question = \"언제 퇴직금이 지급되나요?\"\n",
    "\n",
    "response = rag_chain.stream(question)\n",
    "\n",
    "# 결과 출력\n",
    "print(f\"[HUMAN]\\n{question}\\n\")\n",
    "print(\"===\" * 20)\n",
    "answer = stream_response(response, return_output=True)\n",
    "\n",
    "# 메모리에 대화 내용을 저장\n",
    "memory.save_context({\"question\": question}, {\"answer\": answer})\n",
    "\n"
   ]
  }
 ],
 "metadata": {
  "kernelspec": {
   "display_name": "py310_cuda",
   "language": "python",
   "name": "python3"
  },
  "language_info": {
   "codemirror_mode": {
    "name": "ipython",
    "version": 3
   },
   "file_extension": ".py",
   "mimetype": "text/x-python",
   "name": "python",
   "nbconvert_exporter": "python",
   "pygments_lexer": "ipython3",
   "version": "3.10.15"
  }
 },
 "nbformat": 4,
 "nbformat_minor": 2
}
